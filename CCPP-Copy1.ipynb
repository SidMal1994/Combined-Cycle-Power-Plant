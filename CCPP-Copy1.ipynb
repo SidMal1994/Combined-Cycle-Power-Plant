{
 "cells": [
  {
   "cell_type": "markdown",
   "id": "0d4b6fa0",
   "metadata": {},
   "source": [
    "## Combined Cycle Power Plant[Predicting the Energy output]"
   ]
  },
  {
   "cell_type": "code",
   "execution_count": 1,
   "id": "ae460d05",
   "metadata": {},
   "outputs": [],
   "source": [
    "#Standard Libary for data analysis.\n",
    "import pandas as pd\n",
    "import numpy as np\n"
   ]
  },
  {
   "cell_type": "code",
   "execution_count": 2,
   "id": "ae1e81d5",
   "metadata": {},
   "outputs": [],
   "source": [
    "# suppressing warning that might arise.\n",
    "\n",
    "import warnings\n",
    "warnings.filterwarnings('ignore')"
   ]
  },
  {
   "cell_type": "code",
   "execution_count": 3,
   "id": "246c0f97",
   "metadata": {},
   "outputs": [],
   "source": [
    "#Importing the data for analysis.\n",
    "\n",
    "df=pd.read_csv(\"D:/Python/CCPP Data/CCPP.csv\") "
   ]
  },
  {
   "cell_type": "code",
   "execution_count": 4,
   "id": "a053bfca",
   "metadata": {},
   "outputs": [
    {
     "data": {
      "text/html": [
       "<div>\n",
       "<style scoped>\n",
       "    .dataframe tbody tr th:only-of-type {\n",
       "        vertical-align: middle;\n",
       "    }\n",
       "\n",
       "    .dataframe tbody tr th {\n",
       "        vertical-align: top;\n",
       "    }\n",
       "\n",
       "    .dataframe thead th {\n",
       "        text-align: right;\n",
       "    }\n",
       "</style>\n",
       "<table border=\"1\" class=\"dataframe\">\n",
       "  <thead>\n",
       "    <tr style=\"text-align: right;\">\n",
       "      <th></th>\n",
       "      <th>temperature</th>\n",
       "      <th>exhaust_vacuum</th>\n",
       "      <th>ambient_pressure</th>\n",
       "      <th>relative_humidity</th>\n",
       "      <th>energy_output</th>\n",
       "    </tr>\n",
       "  </thead>\n",
       "  <tbody>\n",
       "    <tr>\n",
       "      <th>0</th>\n",
       "      <td>9.59</td>\n",
       "      <td>38.56</td>\n",
       "      <td>1017.01</td>\n",
       "      <td>60.10</td>\n",
       "      <td>481.30</td>\n",
       "    </tr>\n",
       "    <tr>\n",
       "      <th>1</th>\n",
       "      <td>12.04</td>\n",
       "      <td>42.34</td>\n",
       "      <td>1019.72</td>\n",
       "      <td>94.67</td>\n",
       "      <td>465.36</td>\n",
       "    </tr>\n",
       "    <tr>\n",
       "      <th>2</th>\n",
       "      <td>13.87</td>\n",
       "      <td>45.08</td>\n",
       "      <td>1024.42</td>\n",
       "      <td>81.69</td>\n",
       "      <td>465.48</td>\n",
       "    </tr>\n",
       "    <tr>\n",
       "      <th>3</th>\n",
       "      <td>13.72</td>\n",
       "      <td>54.30</td>\n",
       "      <td>1017.89</td>\n",
       "      <td>79.08</td>\n",
       "      <td>467.05</td>\n",
       "    </tr>\n",
       "    <tr>\n",
       "      <th>4</th>\n",
       "      <td>15.14</td>\n",
       "      <td>49.64</td>\n",
       "      <td>1023.78</td>\n",
       "      <td>75.00</td>\n",
       "      <td>463.58</td>\n",
       "    </tr>\n",
       "    <tr>\n",
       "      <th>...</th>\n",
       "      <td>...</td>\n",
       "      <td>...</td>\n",
       "      <td>...</td>\n",
       "      <td>...</td>\n",
       "      <td>...</td>\n",
       "    </tr>\n",
       "    <tr>\n",
       "      <th>9563</th>\n",
       "      <td>17.10</td>\n",
       "      <td>49.69</td>\n",
       "      <td>1005.53</td>\n",
       "      <td>81.82</td>\n",
       "      <td>457.32</td>\n",
       "    </tr>\n",
       "    <tr>\n",
       "      <th>9564</th>\n",
       "      <td>24.73</td>\n",
       "      <td>65.34</td>\n",
       "      <td>1015.42</td>\n",
       "      <td>52.80</td>\n",
       "      <td>446.92</td>\n",
       "    </tr>\n",
       "    <tr>\n",
       "      <th>9565</th>\n",
       "      <td>30.44</td>\n",
       "      <td>56.24</td>\n",
       "      <td>1005.19</td>\n",
       "      <td>56.24</td>\n",
       "      <td>429.34</td>\n",
       "    </tr>\n",
       "    <tr>\n",
       "      <th>9566</th>\n",
       "      <td>23.00</td>\n",
       "      <td>66.05</td>\n",
       "      <td>1020.61</td>\n",
       "      <td>80.29</td>\n",
       "      <td>421.57</td>\n",
       "    </tr>\n",
       "    <tr>\n",
       "      <th>9567</th>\n",
       "      <td>17.75</td>\n",
       "      <td>49.25</td>\n",
       "      <td>1020.86</td>\n",
       "      <td>63.67</td>\n",
       "      <td>454.41</td>\n",
       "    </tr>\n",
       "  </tbody>\n",
       "</table>\n",
       "<p>9568 rows × 5 columns</p>\n",
       "</div>"
      ],
      "text/plain": [
       "      temperature  exhaust_vacuum  ambient_pressure  relative_humidity  \\\n",
       "0            9.59           38.56           1017.01              60.10   \n",
       "1           12.04           42.34           1019.72              94.67   \n",
       "2           13.87           45.08           1024.42              81.69   \n",
       "3           13.72           54.30           1017.89              79.08   \n",
       "4           15.14           49.64           1023.78              75.00   \n",
       "...           ...             ...               ...                ...   \n",
       "9563        17.10           49.69           1005.53              81.82   \n",
       "9564        24.73           65.34           1015.42              52.80   \n",
       "9565        30.44           56.24           1005.19              56.24   \n",
       "9566        23.00           66.05           1020.61              80.29   \n",
       "9567        17.75           49.25           1020.86              63.67   \n",
       "\n",
       "      energy_output  \n",
       "0            481.30  \n",
       "1            465.36  \n",
       "2            465.48  \n",
       "3            467.05  \n",
       "4            463.58  \n",
       "...             ...  \n",
       "9563         457.32  \n",
       "9564         446.92  \n",
       "9565         429.34  \n",
       "9566         421.57  \n",
       "9567         454.41  \n",
       "\n",
       "[9568 rows x 5 columns]"
      ]
     },
     "execution_count": 4,
     "metadata": {},
     "output_type": "execute_result"
    }
   ],
   "source": [
    "#Checking the data\n",
    "df"
   ]
  },
  {
   "cell_type": "code",
   "execution_count": 5,
   "id": "d4405d1e",
   "metadata": {},
   "outputs": [
    {
     "data": {
      "text/plain": [
       "temperature          0\n",
       "exhaust_vacuum       0\n",
       "ambient_pressure     0\n",
       "relative_humidity    0\n",
       "energy_output        0\n",
       "dtype: int64"
      ]
     },
     "execution_count": 5,
     "metadata": {},
     "output_type": "execute_result"
    }
   ],
   "source": [
    "#Now, checking for null values in every col. of the dataset\n",
    "\n",
    "df.isnull().sum()"
   ]
  },
  {
   "cell_type": "code",
   "execution_count": 6,
   "id": "512e9378",
   "metadata": {
    "scrolled": true
   },
   "outputs": [],
   "source": [
    "# droping the duplicate values if any.\n",
    "\n",
    "df=df.drop_duplicates()"
   ]
  },
  {
   "cell_type": "code",
   "execution_count": 7,
   "id": "8755d29a",
   "metadata": {},
   "outputs": [
    {
     "data": {
      "text/plain": [
       "(9527, 5)"
      ]
     },
     "execution_count": 7,
     "metadata": {},
     "output_type": "execute_result"
    }
   ],
   "source": [
    "#Again checking the shape of the data.\n",
    "\n",
    "df.shape"
   ]
  },
  {
   "cell_type": "markdown",
   "id": "a2a84b58",
   "metadata": {},
   "source": [
    "#### As there are no null values and duplicates have been dropped from the dataset we can now proceed with EDA process"
   ]
  },
  {
   "cell_type": "markdown",
   "id": "e50116f2",
   "metadata": {},
   "source": [
    "# EDA"
   ]
  },
  {
   "cell_type": "code",
   "execution_count": 8,
   "id": "aba4d592",
   "metadata": {},
   "outputs": [],
   "source": [
    "#Checking for relationship b/w the dependent and independent variable\n",
    "\n",
    "import matplotlib.pyplot as plt\n",
    "import seaborn as sns"
   ]
  },
  {
   "cell_type": "code",
   "execution_count": 9,
   "id": "64bd21de",
   "metadata": {},
   "outputs": [],
   "source": [
    "# Finding out the correlation \n",
    "\n",
    "cor=df.corr()"
   ]
  },
  {
   "cell_type": "code",
   "execution_count": 10,
   "id": "d2db05ed",
   "metadata": {},
   "outputs": [
    {
     "data": {
      "text/html": [
       "<div>\n",
       "<style scoped>\n",
       "    .dataframe tbody tr th:only-of-type {\n",
       "        vertical-align: middle;\n",
       "    }\n",
       "\n",
       "    .dataframe tbody tr th {\n",
       "        vertical-align: top;\n",
       "    }\n",
       "\n",
       "    .dataframe thead th {\n",
       "        text-align: right;\n",
       "    }\n",
       "</style>\n",
       "<table border=\"1\" class=\"dataframe\">\n",
       "  <thead>\n",
       "    <tr style=\"text-align: right;\">\n",
       "      <th></th>\n",
       "      <th>temperature</th>\n",
       "      <th>exhaust_vacuum</th>\n",
       "      <th>ambient_pressure</th>\n",
       "      <th>relative_humidity</th>\n",
       "      <th>energy_output</th>\n",
       "    </tr>\n",
       "  </thead>\n",
       "  <tbody>\n",
       "    <tr>\n",
       "      <th>temperature</th>\n",
       "      <td>1.000000</td>\n",
       "      <td>0.843689</td>\n",
       "      <td>-0.508222</td>\n",
       "      <td>-0.543947</td>\n",
       "      <td>-0.947908</td>\n",
       "    </tr>\n",
       "    <tr>\n",
       "      <th>exhaust_vacuum</th>\n",
       "      <td>0.843689</td>\n",
       "      <td>1.000000</td>\n",
       "      <td>-0.415718</td>\n",
       "      <td>-0.312214</td>\n",
       "      <td>-0.869900</td>\n",
       "    </tr>\n",
       "    <tr>\n",
       "      <th>ambient_pressure</th>\n",
       "      <td>-0.508222</td>\n",
       "      <td>-0.415718</td>\n",
       "      <td>1.000000</td>\n",
       "      <td>0.101631</td>\n",
       "      <td>0.518687</td>\n",
       "    </tr>\n",
       "    <tr>\n",
       "      <th>relative_humidity</th>\n",
       "      <td>-0.543947</td>\n",
       "      <td>-0.312214</td>\n",
       "      <td>0.101631</td>\n",
       "      <td>1.000000</td>\n",
       "      <td>0.391175</td>\n",
       "    </tr>\n",
       "    <tr>\n",
       "      <th>energy_output</th>\n",
       "      <td>-0.947908</td>\n",
       "      <td>-0.869900</td>\n",
       "      <td>0.518687</td>\n",
       "      <td>0.391175</td>\n",
       "      <td>1.000000</td>\n",
       "    </tr>\n",
       "  </tbody>\n",
       "</table>\n",
       "</div>"
      ],
      "text/plain": [
       "                   temperature  exhaust_vacuum  ambient_pressure  \\\n",
       "temperature           1.000000        0.843689         -0.508222   \n",
       "exhaust_vacuum        0.843689        1.000000         -0.415718   \n",
       "ambient_pressure     -0.508222       -0.415718          1.000000   \n",
       "relative_humidity    -0.543947       -0.312214          0.101631   \n",
       "energy_output        -0.947908       -0.869900          0.518687   \n",
       "\n",
       "                   relative_humidity  energy_output  \n",
       "temperature                -0.543947      -0.947908  \n",
       "exhaust_vacuum             -0.312214      -0.869900  \n",
       "ambient_pressure            0.101631       0.518687  \n",
       "relative_humidity           1.000000       0.391175  \n",
       "energy_output               0.391175       1.000000  "
      ]
     },
     "execution_count": 10,
     "metadata": {},
     "output_type": "execute_result"
    }
   ],
   "source": [
    "cor"
   ]
  },
  {
   "cell_type": "code",
   "execution_count": 11,
   "id": "4369fc7e",
   "metadata": {},
   "outputs": [
    {
     "data": {
      "text/plain": [
       "<AxesSubplot:>"
      ]
     },
     "execution_count": 11,
     "metadata": {},
     "output_type": "execute_result"
    },
    {
     "data": {
      "image/png": "[encoded data removed]",
      "text/plain": [
       "<Figure size 432x288 with 2 Axes>"
      ]
     },
     "metadata": {
      "needs_background": "light"
     },
     "output_type": "display_data"
    }
   ],
   "source": [
    "sns.heatmap(cor,annot=True)"
   ]
  },
  {
   "cell_type": "markdown",
   "id": "ff4fd8f9",
   "metadata": {},
   "source": [
    " 1.Energy output has a strong negative correlation with 'Temperature' and 'Exhaust Vacuum' of the Plant. So, it seems that as Temperature or Vacuum increases the Energy output of the Plant decreases.\n",
    " \n",
    " 2.Similarly, Energy output has a positive correlation with Pressure and Humidity. It seems that on increasing Humidity and Pressure, the Power output will increase.\n",
    " \n",
    " 3.Vacuum has a strong positive correlation with Temperature of the plant and also Humidity has a small positive correlation with Pressure.\n",
    " \n",
    " 4.All the other non Power linkages have a negative correlation."
   ]
  },
  {
   "cell_type": "markdown",
   "id": "50b2a550",
   "metadata": {},
   "source": [
    "###### Making the list of columns present in the dataset for drawing comparison using histogram"
   ]
  },
  {
   "cell_type": "code",
   "execution_count": 12,
   "id": "e592afe9",
   "metadata": {},
   "outputs": [],
   "source": [
    "l1=df.columns.tolist()"
   ]
  },
  {
   "cell_type": "code",
   "execution_count": 13,
   "id": "67e1ee4c",
   "metadata": {},
   "outputs": [
    {
     "data": {
      "text/plain": [
       "['temperature',\n",
       " 'exhaust_vacuum',\n",
       " 'ambient_pressure',\n",
       " 'relative_humidity',\n",
       " 'energy_output']"
      ]
     },
     "execution_count": 13,
     "metadata": {},
     "output_type": "execute_result"
    }
   ],
   "source": [
    "l1"
   ]
  },
  {
   "cell_type": "code",
   "execution_count": 14,
   "id": "d8597fe5",
   "metadata": {
    "scrolled": false
   },
   "outputs": [
    {
     "name": "stdout",
     "output_type": "stream",
     "text": [
      "count    9527.000000\n",
      "mean       19.658225\n",
      "std         7.444397\n",
      "min         1.810000\n",
      "25%        13.530000\n",
      "50%        20.350000\n",
      "75%        25.710000\n",
      "max        37.110000\n",
      "Name: temperature, dtype: float64\n"
     ]
    },
    {
     "data": {
      "image/png": "[encoded data removed]",
      "text/plain": [
       "<Figure size 432x288 with 1 Axes>"
      ]
     },
     "metadata": {
      "needs_background": "light"
     },
     "output_type": "display_data"
    },
    {
     "name": "stdout",
     "output_type": "stream",
     "text": [
      "count    9527.000000\n",
      "mean       54.293421\n",
      "std        12.686309\n",
      "min        25.360000\n",
      "25%        41.740000\n",
      "50%        52.080000\n",
      "75%        66.510000\n",
      "max        81.560000\n",
      "Name: exhaust_vacuum, dtype: float64\n"
     ]
    },
    {
     "data": {
      "image/png": "[encoded data removed]",
      "text/plain": [
       "<Figure size 432x288 with 1 Axes>"
      ]
     },
     "metadata": {
      "needs_background": "light"
     },
     "output_type": "display_data"
    },
    {
     "name": "stdout",
     "output_type": "stream",
     "text": [
      "count    9527.000000\n",
      "mean     1013.237084\n",
      "std         5.940526\n",
      "min       992.890000\n",
      "25%      1009.085000\n",
      "50%      1012.920000\n",
      "75%      1017.200000\n",
      "max      1033.300000\n",
      "Name: ambient_pressure, dtype: float64\n"
     ]
    },
    {
     "data": {
      "image/png": "[encoded data removed]",
      "text/plain": [
       "<Figure size 432x288 with 1 Axes>"
      ]
     },
     "metadata": {
      "needs_background": "light"
     },
     "output_type": "display_data"
    },
    {
     "name": "stdout",
     "output_type": "stream",
     "text": [
      "count    9527.000000\n",
      "mean       73.334951\n",
      "std        14.607513\n",
      "min        25.560000\n",
      "25%        63.375000\n",
      "50%        75.000000\n",
      "75%        84.850000\n",
      "max       100.160000\n",
      "Name: relative_humidity, dtype: float64\n"
     ]
    },
    {
     "data": {
      "image/png": "[encoded data removed]",
      "text/plain": [
       "<Figure size 432x288 with 1 Axes>"
      ]
     },
     "metadata": {
      "needs_background": "light"
     },
     "output_type": "display_data"
    },
    {
     "name": "stdout",
     "output_type": "stream",
     "text": [
      "count    9527.00000\n",
      "mean      454.33591\n",
      "std        17.03908\n",
      "min       420.26000\n",
      "25%       439.75000\n",
      "50%       451.52000\n",
      "75%       468.36500\n",
      "max       495.76000\n",
      "Name: energy_output, dtype: float64\n"
     ]
    },
    {
     "data": {
      "image/png": "[encoded data removed]",
      "text/plain": [
       "<Figure size 432x288 with 1 Axes>"
      ]
     },
     "metadata": {
      "needs_background": "light"
     },
     "output_type": "display_data"
    }
   ],
   "source": [
    "for i in l1:\n",
    "    print(df[i].describe())\n",
    "    plt.figsize=8,6\n",
    "    plt.hist(x=i,data=df,bins=15,edgecolor=\"Black\",color=\"green\")\n",
    "    plt.title(i)\n",
    "    plt.show()\n"
   ]
  },
  {
   "cell_type": "markdown",
   "id": "c1a14184",
   "metadata": {},
   "source": [
    "###### Above we can see that data is normally distributed as mean value lies in between except relative humidity which is left skewed"
   ]
  },
  {
   "cell_type": "markdown",
   "id": "aa3695ba",
   "metadata": {},
   "source": [
    "### Creating box/whisker plot to check for the outliers"
   ]
  },
  {
   "cell_type": "code",
   "execution_count": 15,
   "id": "d7c0a296",
   "metadata": {
    "scrolled": false
   },
   "outputs": [
    {
     "data": {
      "image/png": "[encoded data removed]",
      "text/plain": [
       "<Figure size 432x432 with 1 Axes>"
      ]
     },
     "metadata": {
      "needs_background": "light"
     },
     "output_type": "display_data"
    },
    {
     "data": {
      "image/png": "[encoded data removed]",
      "text/plain": [
       "<Figure size 432x432 with 1 Axes>"
      ]
     },
     "metadata": {
      "needs_background": "light"
     },
     "output_type": "display_data"
    },
    {
     "data": {
      "image/png": "[encoded data removed]",
      "text/plain": [
       "<Figure size 432x432 with 1 Axes>"
      ]
     },
     "metadata": {
      "needs_background": "light"
     },
     "output_type": "display_data"
    },
    {
     "data": {
      "image/png": "[encoded data removed]",
      "text/plain": [
       "<Figure size 432x432 with 1 Axes>"
      ]
     },
     "metadata": {
      "needs_background": "light"
     },
     "output_type": "display_data"
    },
    {
     "data": {
      "image/png": "[encoded data removed]",
      "text/plain": [
       "<Figure size 432x432 with 1 Axes>"
      ]
     },
     "metadata": {
      "needs_background": "light"
     },
     "output_type": "display_data"
    }
   ],
   "source": [
    "## Creating a box/whisker plot to check the outliers in the dataset\n",
    "\n",
    "for i in l1:\n",
    "    plt.figure(figsize=(6,6))\n",
    "    plt.boxplot(x=i,data=df)\n",
    "    plt.title(i)\n",
    "    plt.show()"
   ]
  },
  {
   "cell_type": "markdown",
   "id": "a02408f3",
   "metadata": {},
   "source": [
    "###### Above we can se that the two variable has outliers, hence we need to check that will these extreme values impact the biasness of  our dataaset."
   ]
  },
  {
   "cell_type": "markdown",
   "id": "6aeaf5c8",
   "metadata": {},
   "source": [
    "### Treating the outliers"
   ]
  },
  {
   "cell_type": "markdown",
   "id": "a8a92465",
   "metadata": {},
   "source": [
    "With the above analysis we can see that 'relative_humidity' and 'ambient_pressure' have outliers which might distort are results because in the presence of outliers the standard daviation and mean will get affected and can cause biasness in the data, so it is necessary to treat the outliers and remove them "
   ]
  },
  {
   "cell_type": "code",
   "execution_count": 16,
   "id": "9cdcc7ea",
   "metadata": {
    "scrolled": false
   },
   "outputs": [
    {
     "name": "stdout",
     "output_type": "stream",
     "text": [
      "The lower bound for temperature is: -4.74\n",
      "The upper bound for temperature is: 43.98\n",
      " No. of outliers in temperature is: 0\n",
      "\n",
      "\n",
      "The lower bound for exhaust_vacuum is: 4.585\n",
      "The upper bound for exhaust_vacuum is: 103.665\n",
      " No. of outliers in exhaust_vacuum is: 0\n",
      "\n",
      "\n",
      "The lower bound for ambient_pressure is: 996.912\n",
      "The upper bound for ambient_pressure is: 1029.372\n",
      " No. of outliers in ambient_pressure is: 91\n",
      "\n",
      "\n",
      "The lower bound for relative_humidity is: 31.163\n",
      "The upper bound for relative_humidity is: 117.062\n",
      " No. of outliers in relative_humidity is: 13\n",
      "\n",
      "\n",
      "The lower bound for energy_output is: 396.828\n",
      "The upper bound for energy_output is: 511.288\n",
      " No. of outliers in energy_output is: 0\n",
      "\n",
      "\n"
     ]
    }
   ],
   "source": [
    "# Calculation of inter quartile range to calculate upper and lower bound.\n",
    "\n",
    "for i in df:\n",
    "    q1=df[i].quantile(0.25)\n",
    "    q3=df[i].quantile(0.75)\n",
    "    IQR=q3-q1\n",
    "    \n",
    "    lower_bound=round(q1-1.5*IQR,3)\n",
    "    upper_bound=round(q3+1.5*IQR,3)\n",
    "    \n",
    "    a=df[(df[i]<lower_bound)|(df[i]>upper_bound)]\n",
    "    \n",
    "    print(f\"The lower bound for {i} is: {lower_bound}\")\n",
    "    print(f\"The upper bound for {i} is: {upper_bound}\")\n",
    "    print(f' No. of outliers in {i} is: {len(a)}')\n",
    "    print(\"\\n\")\n",
    "    \n",
    "    "
   ]
  },
  {
   "cell_type": "markdown",
   "id": "36481403",
   "metadata": {},
   "source": [
    "From the above calculation it is confirm that there are certain values that are out of bound, hence dropping the values form the dataset below."
   ]
  },
  {
   "cell_type": "code",
   "execution_count": 17,
   "id": "f37ffe6b",
   "metadata": {
    "scrolled": true
   },
   "outputs": [],
   "source": [
    "df.drop(df[(df.relative_humidity<31.163) | (df['relative_humidity']>117.062)].index, inplace=True)\n"
   ]
  },
  {
   "cell_type": "code",
   "execution_count": 18,
   "id": "ffc4a4db",
   "metadata": {},
   "outputs": [],
   "source": [
    "df.drop(df[(df.ambient_pressure<996.912) | (df['ambient_pressure']>1029.372)].index, inplace=True)"
   ]
  },
  {
   "cell_type": "code",
   "execution_count": 19,
   "id": "5045b6f0",
   "metadata": {},
   "outputs": [
    {
     "data": {
      "text/plain": [
       "(9423, 5)"
      ]
     },
     "execution_count": 19,
     "metadata": {},
     "output_type": "execute_result"
    }
   ],
   "source": [
    "df.shape"
   ]
  },
  {
   "cell_type": "markdown",
   "id": "b239a371",
   "metadata": {},
   "source": [
    "So we identified the outliers and drop them from the dataset."
   ]
  },
  {
   "cell_type": "markdown",
   "id": "9e632dbc",
   "metadata": {},
   "source": [
    "### Sliptting the data "
   ]
  },
  {
   "cell_type": "code",
   "execution_count": 20,
   "id": "b116a22e",
   "metadata": {},
   "outputs": [],
   "source": [
    "#First we will seperate the dependent and independent variables.\n",
    "\n",
    "x=df.drop([\"energy_output\"],axis=1)\n",
    "y=df[\"energy_output\"]"
   ]
  },
  {
   "cell_type": "code",
   "execution_count": 21,
   "id": "035c86b0",
   "metadata": {},
   "outputs": [],
   "source": [
    "#Now,splitting the data into train and test through sklearn library\n",
    "from sklearn.model_selection import train_test_split\n",
    "\n",
    "\n",
    "xtrain,xtest,ytrain,ytest=train_test_split(x,y,train_size=.80)"
   ]
  },
  {
   "cell_type": "markdown",
   "id": "c0a299ab",
   "metadata": {},
   "source": [
    "checking the shape of the splitted train and test dataset"
   ]
  },
  {
   "cell_type": "code",
   "execution_count": 22,
   "id": "650ac1e6",
   "metadata": {},
   "outputs": [
    {
     "name": "stdout",
     "output_type": "stream",
     "text": [
      "(7538, 4)\n",
      "(7538,)\n"
     ]
    }
   ],
   "source": [
    "print(xtrain.shape)\n",
    "print(ytrain.shape)"
   ]
  },
  {
   "cell_type": "code",
   "execution_count": 23,
   "id": "042b17d3",
   "metadata": {},
   "outputs": [
    {
     "name": "stdout",
     "output_type": "stream",
     "text": [
      "(1885, 4)\n",
      "(1885,)\n"
     ]
    }
   ],
   "source": [
    "print(xtest.shape)\n",
    "print(ytest.shape)"
   ]
  },
  {
   "cell_type": "markdown",
   "id": "744d9cc5",
   "metadata": {},
   "source": [
    "#### Developing the model to make prediction."
   ]
  },
  {
   "cell_type": "code",
   "execution_count": 24,
   "id": "4bd4d9cd",
   "metadata": {},
   "outputs": [],
   "source": [
    "#Using linear Regression to develop the model\n",
    "\n",
    "from sklearn.linear_model import LinearRegression"
   ]
  },
  {
   "cell_type": "code",
   "execution_count": 25,
   "id": "2671d9e3",
   "metadata": {},
   "outputs": [],
   "source": [
    "model=LinearRegression() #Using an object to call the linear regression class."
   ]
  },
  {
   "cell_type": "code",
   "execution_count": 26,
   "id": "5dea35ee",
   "metadata": {},
   "outputs": [
    {
     "data": {
      "text/plain": [
       "LinearRegression()"
      ]
     },
     "execution_count": 26,
     "metadata": {},
     "output_type": "execute_result"
    }
   ],
   "source": [
    "# Passing the x,y train data into the model\n",
    "\n",
    "model.fit(xtrain,ytrain)"
   ]
  },
  {
   "cell_type": "code",
   "execution_count": 27,
   "id": "67535331",
   "metadata": {},
   "outputs": [
    {
     "data": {
      "text/plain": [
       "451.9438880331637"
      ]
     },
     "execution_count": 27,
     "metadata": {},
     "output_type": "execute_result"
    }
   ],
   "source": [
    "#As we the formula to calculate linear regression in y=mx+c\n",
    "\n",
    "# Below finding out the 'c' value\n",
    "\n",
    "model.intercept_"
   ]
  },
  {
   "cell_type": "code",
   "execution_count": 28,
   "id": "e611950f",
   "metadata": {},
   "outputs": [
    {
     "data": {
      "text/plain": [
       "array([-1.98691101, -0.22728078,  0.0645142 , -0.15761762])"
      ]
     },
     "execution_count": 28,
     "metadata": {},
     "output_type": "execute_result"
    }
   ],
   "source": [
    "# Finding the value of \"mx\" for all the variables\n",
    "\n",
    "model.coef_"
   ]
  },
  {
   "cell_type": "markdown",
   "id": "19bd98f3",
   "metadata": {},
   "source": [
    "##### Making Prediction"
   ]
  },
  {
   "cell_type": "code",
   "execution_count": 29,
   "id": "94c2526d",
   "metadata": {},
   "outputs": [
    {
     "data": {
      "text/plain": [
       "array([478.06226613, 429.67458105, 469.82537245, ..., 464.53986776,\n",
       "       474.78392589, 464.64951663])"
      ]
     },
     "execution_count": 29,
     "metadata": {},
     "output_type": "execute_result"
    }
   ],
   "source": [
    "ypred=model.predict(xtest)\n",
    "\n",
    "ypred"
   ]
  },
  {
   "cell_type": "markdown",
   "id": "3f0aea41",
   "metadata": {},
   "source": [
    "##### Checking the accuracy of the model"
   ]
  },
  {
   "cell_type": "code",
   "execution_count": 30,
   "id": "f85497d4",
   "metadata": {},
   "outputs": [],
   "source": [
    "from sklearn.metrics import mean_absolute_error,r2_score"
   ]
  },
  {
   "cell_type": "code",
   "execution_count": 31,
   "id": "04691853",
   "metadata": {},
   "outputs": [
    {
     "name": "stdout",
     "output_type": "stream",
     "text": [
      "3.675656080643974\n"
     ]
    }
   ],
   "source": [
    "#Using absolute error to check for the error in the developed model\n",
    "\n",
    "print(mean_absolute_error(ytest,ypred))"
   ]
  },
  {
   "cell_type": "code",
   "execution_count": 32,
   "id": "8112c00e",
   "metadata": {},
   "outputs": [
    {
     "name": "stdout",
     "output_type": "stream",
     "text": [
      "0.926822661798564\n"
     ]
    }
   ],
   "source": [
    "# Using r2_score to check the accuracy score of the model.\n",
    "\n",
    "print(r2_score(ytest,ypred))"
   ]
  },
  {
   "cell_type": "markdown",
   "id": "c2148636",
   "metadata": {},
   "source": [
    "From the above developed model and checking the acccuracy score we can se that the predictions accuracy is above 90%"
   ]
  },
  {
   "cell_type": "code",
   "execution_count": 33,
   "id": "fbe6a353",
   "metadata": {},
   "outputs": [
    {
     "data": {
      "text/plain": [
       "Text(0.5, 1.0, 'Observed vs. Predicted Values')"
      ]
     },
     "execution_count": 33,
     "metadata": {},
     "output_type": "execute_result"
    },
    {
     "data": {
      "image/png": "[encoded data removed]",
      "text/plain": [
       "<Figure size 432x288 with 1 Axes>"
      ]
     },
     "metadata": {
      "needs_background": "light"
     },
     "output_type": "display_data"
    }
   ],
   "source": [
    "sns.regplot(x=ypred, y=ytest, lowess=True, line_kws={'color': 'red'})\n",
    "plt.title('Observed vs. Predicted Values', fontsize=16)"
   ]
  }
 ],
 "metadata": {
  "kernelspec": {
   "display_name": "Python 3 (ipykernel)",
   "language": "python",
   "name": "python3"
  },
  "language_info": {
   "codemirror_mode": {
    "name": "ipython",
    "version": 3
   },
   "file_extension": ".py",
   "mimetype": "text/x-python",
   "name": "python",
   "nbconvert_exporter": "python",
   "pygments_lexer": "ipython3",
   "version": "3.9.7"
  }
 },
 "nbformat": 4,
 "nbformat_minor": 5
}
